{
 "cells": [
  {
   "cell_type": "code",
   "execution_count": 10,
   "id": "7bf30115",
   "metadata": {},
   "outputs": [],
   "source": [
    "import numpy as np\n",
    "from keras.preprocessing.image import ImageDataGenerator\n",
    "from keras.models import Sequential\n",
    "from keras.layers import Dense,Dropout,Flatten,Conv2D,MaxPooling2D\n",
    "import os\n",
    "from matplotlib import pyplot as plt"
   ]
  },
  {
   "cell_type": "code",
   "execution_count": 11,
   "id": "4d2d581f",
   "metadata": {},
   "outputs": [
    {
     "data": {
      "text/plain": [
       "['.ipynb_checkpoints', 'Emotion Detection.ipynb', 'test', 'train']"
      ]
     },
     "execution_count": 11,
     "metadata": {},
     "output_type": "execute_result"
    }
   ],
   "source": [
    "os.listdir()"
   ]
  },
  {
   "cell_type": "code",
   "execution_count": 12,
   "id": "e98e472b",
   "metadata": {},
   "outputs": [],
   "source": [
    "height=48\n",
    "width=48\n",
    "batch_size=32\n",
    "train_data='train/'\n",
    "test_data='test/'"
   ]
  },
  {
   "cell_type": "code",
   "execution_count": 13,
   "id": "84a1e88c",
   "metadata": {},
   "outputs": [
    {
     "ename": "SyntaxError",
     "evalue": "invalid syntax (<ipython-input-13-2fc2dce70b5a>, line 19)",
     "output_type": "error",
     "traceback": [
      "\u001b[1;36m  File \u001b[1;32m\"<ipython-input-13-2fc2dce70b5a>\"\u001b[1;36m, line \u001b[1;32m19\u001b[0m\n\u001b[1;33m    shuffle=True)\u001b[0m\n\u001b[1;37m    ^\u001b[0m\n\u001b[1;31mSyntaxError\u001b[0m\u001b[1;31m:\u001b[0m invalid syntax\n"
     ]
    }
   ],
   "source": [
    "train_datagen=ImageDataGenerator(rescale=1./255,\n",
    "                                rotation_range=30,\n",
    "                                shear_range=0.3,\n",
    "                                zoom_range=0.3,\n",
    "                                horizontal_flip=True,\n",
    "                                fill_mode='nearest')\n",
    "validation_datagen=ImageDataGenerator(rescale=1./255)\n",
    "train_generator=train_datagen.flow_from_directory(train_data,\n",
    "                                                  color_mode='grayscale',\n",
    "                                                  target_size=(height,width),\n",
    "                                                  batch_size=batch_size,\n",
    "                                                  class_mode=\"categorical\",\n",
    "                                                  shuffle=True)\n",
    "validation_generator=validation_datagen.flow_from_directory(test_data,\n",
    "                                                  color_mode='grayscale',\n",
    "                                                  target_size=(height,width),\n",
    "                                                  batch_size=batch_size,\n",
    "                                                  class_mode=\"categorical\"\n",
    "                                                  shuffle=True)\n",
    "                                                "
   ]
  },
  {
   "cell_type": "code",
   "execution_count": null,
   "id": "18d75c7d",
   "metadata": {},
   "outputs": [],
   "source": []
  }
 ],
 "metadata": {
  "kernelspec": {
   "display_name": "Python 3",
   "language": "python",
   "name": "python3"
  },
  "language_info": {
   "codemirror_mode": {
    "name": "ipython",
    "version": 3
   },
   "file_extension": ".py",
   "mimetype": "text/x-python",
   "name": "python",
   "nbconvert_exporter": "python",
   "pygments_lexer": "ipython3",
   "version": "3.8.8"
  }
 },
 "nbformat": 4,
 "nbformat_minor": 5
}
